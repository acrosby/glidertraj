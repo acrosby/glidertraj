{
 "metadata": {
  "name": ""
 },
 "nbformat": 3,
 "nbformat_minor": 0,
 "worksheets": [
  {
   "cells": [
    {
     "cell_type": "markdown",
     "metadata": {},
     "source": [
      "#Testing ioos_glider.writer_0_0()"
     ]
    },
    {
     "cell_type": "code",
     "collapsed": false,
     "input": [
      "import ioos_glider\n",
      "import numpy as np\n",
      "import netCDF4"
     ],
     "language": "python",
     "metadata": {},
     "outputs": [],
     "prompt_number": 10
    },
    {
     "cell_type": "markdown",
     "metadata": {},
     "source": [
      "##Create some dummy data"
     ]
    },
    {
     "cell_type": "code",
     "collapsed": false,
     "input": [
      "lon = lat = depth = dens = press = cond = temp = salt = segment_id = profile_id = np.ones((100,))\n",
      "traj = np.arange(2)\n",
      "lon_uv = lat_uv = u = v = np.arange(50)\n",
      "time_uv = netCDF4.num2date(np.arange(0,500, 10), units='seconds since 1970-01-01')\n",
      "time = netCDF4.num2date(np.arange(0,1000, 10), units='seconds since 1970-01-01')"
     ],
     "language": "python",
     "metadata": {},
     "outputs": [],
     "prompt_number": 11
    },
    {
     "cell_type": "markdown",
     "metadata": {},
     "source": [
      "##Write basic file, with no qc"
     ]
    },
    {
     "cell_type": "code",
     "collapsed": false,
     "input": [
      "ioos_glider.writer_0_0(\"test_out.nc\", time, time_uv, traj, segment_id, profile_id, depth, lat, lon, press, cond, dens, salt, temp, u, v, lat_uv, lon_uv)"
     ],
     "language": "python",
     "metadata": {},
     "outputs": [],
     "prompt_number": 12
    },
    {
     "cell_type": "markdown",
     "metadata": {},
     "source": [
      "####Success!"
     ]
    },
    {
     "cell_type": "code",
     "collapsed": false,
     "input": [
      "%%bash\n",
      "ls"
     ],
     "language": "python",
     "metadata": {},
     "outputs": [
      {
       "output_type": "stream",
       "stream": "stdout",
       "text": [
        "ioos_glider.py\n",
        "ioos_glider.py~\n",
        "ioos_glider.pyc\n",
        "libpeerconnection.log\n",
        "Testing ioos_glider.py.ipynb\n",
        "test_out.nc\n"
       ]
      }
     ],
     "prompt_number": 13
    },
    {
     "cell_type": "code",
     "collapsed": false,
     "input": [
      "#with netCDF4.Dataset('test_out.nc') as nc:\n",
      "#    print nc"
     ],
     "language": "python",
     "metadata": {},
     "outputs": [],
     "prompt_number": 14
    },
    {
     "cell_type": "markdown",
     "metadata": {},
     "source": [
      "##Write file with qc info"
     ]
    },
    {
     "cell_type": "code",
     "collapsed": false,
     "input": [
      "ioos_glider.writer_0_0(\"test_out.nc\", time, time_uv, traj, segment_id, profile_id, depth, lat, lon, press, cond, dens, salt, temp, u, v, lat_uv, lon_uv,\n",
      "                       time_qcdata=lon, u_qcdata=u, v_qcdata=v, depth_qcdata=depth, lat_qcdata=lat, lon_qcdata=lon, pressure_qcdata=press, \n",
      "                       conductivity_qcdata=cond, density_qcdata=dens, salinity_qcdata=salt, temperature_qcdata=temp)"
     ],
     "language": "python",
     "metadata": {},
     "outputs": [],
     "prompt_number": 15
    },
    {
     "cell_type": "markdown",
     "metadata": {},
     "source": [
      "## Write file, and override the global attribute ```title```"
     ]
    },
    {
     "cell_type": "code",
     "collapsed": false,
     "input": [
      "ioos_glider.writer_0_0(\"test_out.nc\", time, time_uv, traj, segment_id, profile_id, depth, lat, lon, press, cond, dens, salt, temp, u, v, lat_uv, lon_uv,\n",
      "                       time_qcdata=lon, u_qcdata=u, v_qcdata=v, depth_qcdata=depth, lat_qcdata=lat, lon_qcdata=lon, pressure_qcdata=press, \n",
      "                       conductivity_qcdata=cond, density_qcdata=dens, salinity_qcdata=salt, temperature_qcdata=temp, title=\"Alex's new awesome title\")"
     ],
     "language": "python",
     "metadata": {},
     "outputs": [],
     "prompt_number": 16
    },
    {
     "cell_type": "markdown",
     "metadata": {},
     "source": [
      "####Success!"
     ]
    },
    {
     "cell_type": "code",
     "collapsed": false,
     "input": [
      "with netCDF4.Dataset('test_out.nc') as nc:\n",
      "    print nc.title"
     ],
     "language": "python",
     "metadata": {},
     "outputs": [
      {
       "output_type": "stream",
       "stream": "stdout",
       "text": [
        "Alex's new awesome title\n"
       ]
      }
     ],
     "prompt_number": 17
    }
   ],
   "metadata": {}
  }
 ]
}